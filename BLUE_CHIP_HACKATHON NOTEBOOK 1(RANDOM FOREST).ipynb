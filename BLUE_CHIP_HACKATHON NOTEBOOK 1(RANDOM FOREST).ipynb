{
 "cells": [
  {
   "cell_type": "code",
   "execution_count": 1,
   "id": "05d0bc03",
   "metadata": {},
   "outputs": [],
   "source": [
    "# Libraries\n",
    "import pandas as pd\n",
    "import matplotlib.pyplot as plt\n",
    "%matplotlib inline\n",
    "import seaborn as sns\n",
    "import numpy as np\n",
    "from sklearn.preprocessing import LabelEncoder\n",
    "import numpy as np"
   ]
  },
  {
   "cell_type": "code",
   "execution_count": 2,
   "id": "f60875c4",
   "metadata": {},
   "outputs": [],
   "source": [
    "# Load your train,sub and test files"
   ]
  },
  {
   "cell_type": "code",
   "execution_count": 3,
   "id": "3d2dc2ed",
   "metadata": {},
   "outputs": [],
   "source": [
    "train=pd.read_csv('C:/Users/david/OneDrive/Desktop/bluechip-summit-credit-worthiness-prediction/Train.csv')"
   ]
  },
  {
   "cell_type": "code",
   "execution_count": 4,
   "id": "8a5ba675",
   "metadata": {},
   "outputs": [
    {
     "data": {
      "text/html": [
       "<div>\n",
       "<style scoped>\n",
       "    .dataframe tbody tr th:only-of-type {\n",
       "        vertical-align: middle;\n",
       "    }\n",
       "\n",
       "    .dataframe tbody tr th {\n",
       "        vertical-align: top;\n",
       "    }\n",
       "\n",
       "    .dataframe thead th {\n",
       "        text-align: right;\n",
       "    }\n",
       "</style>\n",
       "<table border=\"1\" class=\"dataframe\">\n",
       "  <thead>\n",
       "    <tr style=\"text-align: right;\">\n",
       "      <th></th>\n",
       "      <th>ID</th>\n",
       "      <th>Loan_ID</th>\n",
       "      <th>Gender</th>\n",
       "      <th>Married</th>\n",
       "      <th>Dependents</th>\n",
       "      <th>Education</th>\n",
       "      <th>Self_Employed</th>\n",
       "      <th>ApplicantIncome</th>\n",
       "      <th>CoapplicantIncome</th>\n",
       "      <th>LoanAmount</th>\n",
       "      <th>Loan_Amount_Term</th>\n",
       "      <th>Credit_History</th>\n",
       "      <th>Property_Area</th>\n",
       "      <th>Loan_Status</th>\n",
       "      <th>Total_Income</th>\n",
       "    </tr>\n",
       "  </thead>\n",
       "  <tbody>\n",
       "    <tr>\n",
       "      <th>0</th>\n",
       "      <td>74768</td>\n",
       "      <td>LP002231</td>\n",
       "      <td>1</td>\n",
       "      <td>1</td>\n",
       "      <td>0</td>\n",
       "      <td>1</td>\n",
       "      <td>0</td>\n",
       "      <td>8328</td>\n",
       "      <td>0.000000</td>\n",
       "      <td>17</td>\n",
       "      <td>363</td>\n",
       "      <td>1</td>\n",
       "      <td>2</td>\n",
       "      <td>1</td>\n",
       "      <td>6000</td>\n",
       "    </tr>\n",
       "    <tr>\n",
       "      <th>1</th>\n",
       "      <td>79428</td>\n",
       "      <td>LP001448</td>\n",
       "      <td>1</td>\n",
       "      <td>1</td>\n",
       "      <td>0</td>\n",
       "      <td>0</td>\n",
       "      <td>0</td>\n",
       "      <td>150</td>\n",
       "      <td>3857.458782</td>\n",
       "      <td>188</td>\n",
       "      <td>370</td>\n",
       "      <td>1</td>\n",
       "      <td>1</td>\n",
       "      <td>0</td>\n",
       "      <td>6000</td>\n",
       "    </tr>\n",
       "    <tr>\n",
       "      <th>2</th>\n",
       "      <td>70497</td>\n",
       "      <td>LP002231</td>\n",
       "      <td>0</td>\n",
       "      <td>0</td>\n",
       "      <td>0</td>\n",
       "      <td>0</td>\n",
       "      <td>0</td>\n",
       "      <td>4989</td>\n",
       "      <td>314.472511</td>\n",
       "      <td>17</td>\n",
       "      <td>348</td>\n",
       "      <td>1</td>\n",
       "      <td>0</td>\n",
       "      <td>0</td>\n",
       "      <td>6000</td>\n",
       "    </tr>\n",
       "    <tr>\n",
       "      <th>3</th>\n",
       "      <td>87480</td>\n",
       "      <td>LP001385</td>\n",
       "      <td>1</td>\n",
       "      <td>1</td>\n",
       "      <td>0</td>\n",
       "      <td>0</td>\n",
       "      <td>0</td>\n",
       "      <td>150</td>\n",
       "      <td>0.000000</td>\n",
       "      <td>232</td>\n",
       "      <td>359</td>\n",
       "      <td>1</td>\n",
       "      <td>1</td>\n",
       "      <td>1</td>\n",
       "      <td>3750</td>\n",
       "    </tr>\n",
       "    <tr>\n",
       "      <th>4</th>\n",
       "      <td>33964</td>\n",
       "      <td>LP002231</td>\n",
       "      <td>1</td>\n",
       "      <td>1</td>\n",
       "      <td>1</td>\n",
       "      <td>0</td>\n",
       "      <td>0</td>\n",
       "      <td>8059</td>\n",
       "      <td>0.000000</td>\n",
       "      <td>17</td>\n",
       "      <td>372</td>\n",
       "      <td>1</td>\n",
       "      <td>0</td>\n",
       "      <td>1</td>\n",
       "      <td>3750</td>\n",
       "    </tr>\n",
       "  </tbody>\n",
       "</table>\n",
       "</div>"
      ],
      "text/plain": [
       "      ID   Loan_ID  Gender  Married Dependents  Education  Self_Employed  \\\n",
       "0  74768  LP002231       1        1          0          1              0   \n",
       "1  79428  LP001448       1        1          0          0              0   \n",
       "2  70497  LP002231       0        0          0          0              0   \n",
       "3  87480  LP001385       1        1          0          0              0   \n",
       "4  33964  LP002231       1        1          1          0              0   \n",
       "\n",
       "   ApplicantIncome  CoapplicantIncome  LoanAmount  Loan_Amount_Term  \\\n",
       "0             8328           0.000000          17               363   \n",
       "1              150        3857.458782         188               370   \n",
       "2             4989         314.472511          17               348   \n",
       "3              150           0.000000         232               359   \n",
       "4             8059           0.000000          17               372   \n",
       "\n",
       "   Credit_History  Property_Area  Loan_Status  Total_Income  \n",
       "0               1              2            1          6000  \n",
       "1               1              1            0          6000  \n",
       "2               1              0            0          6000  \n",
       "3               1              1            1          3750  \n",
       "4               1              0            1          3750  "
      ]
     },
     "execution_count": 4,
     "metadata": {},
     "output_type": "execute_result"
    }
   ],
   "source": [
    "train.head()"
   ]
  },
  {
   "cell_type": "code",
   "execution_count": 5,
   "id": "52cc2e49",
   "metadata": {},
   "outputs": [],
   "source": [
    "test=pd.read_csv('C:/users/david/OneDrive/Desktop/bluechip-summit-credit-worthiness-prediction/Test.csv')"
   ]
  },
  {
   "cell_type": "code",
   "execution_count": 6,
   "id": "d045fe8a",
   "metadata": {},
   "outputs": [],
   "source": [
    "sub=pd.read_csv('C:/Users/david/OneDrive/Desktop/bluechip-summit-credit-worthiness-prediction/Sample Submission.csv')"
   ]
  },
  {
   "cell_type": "code",
   "execution_count": 7,
   "id": "3479dc47",
   "metadata": {},
   "outputs": [],
   "source": [
    "# copy your train,test,sub data into another to avoid tampering with the original data\n"
   ]
  },
  {
   "cell_type": "code",
   "execution_count": 8,
   "id": "ce9efc4e",
   "metadata": {},
   "outputs": [],
   "source": [
    "train_b=train.copy()\n",
    "test_b=test.copy()\n",
    "sub_b= sub.copy()"
   ]
  },
  {
   "cell_type": "code",
   "execution_count": 9,
   "id": "e62bf1fa",
   "metadata": {},
   "outputs": [
    {
     "data": {
      "text/html": [
       "<div>\n",
       "<style scoped>\n",
       "    .dataframe tbody tr th:only-of-type {\n",
       "        vertical-align: middle;\n",
       "    }\n",
       "\n",
       "    .dataframe tbody tr th {\n",
       "        vertical-align: top;\n",
       "    }\n",
       "\n",
       "    .dataframe thead th {\n",
       "        text-align: right;\n",
       "    }\n",
       "</style>\n",
       "<table border=\"1\" class=\"dataframe\">\n",
       "  <thead>\n",
       "    <tr style=\"text-align: right;\">\n",
       "      <th></th>\n",
       "      <th>ID</th>\n",
       "      <th>Loan_ID</th>\n",
       "      <th>Gender</th>\n",
       "      <th>Married</th>\n",
       "      <th>Dependents</th>\n",
       "      <th>Education</th>\n",
       "      <th>Self_Employed</th>\n",
       "      <th>ApplicantIncome</th>\n",
       "      <th>CoapplicantIncome</th>\n",
       "      <th>LoanAmount</th>\n",
       "      <th>Loan_Amount_Term</th>\n",
       "      <th>Credit_History</th>\n",
       "      <th>Property_Area</th>\n",
       "      <th>Loan_Status</th>\n",
       "      <th>Total_Income</th>\n",
       "    </tr>\n",
       "  </thead>\n",
       "  <tbody>\n",
       "    <tr>\n",
       "      <th>0</th>\n",
       "      <td>74768</td>\n",
       "      <td>LP002231</td>\n",
       "      <td>1</td>\n",
       "      <td>1</td>\n",
       "      <td>0</td>\n",
       "      <td>1</td>\n",
       "      <td>0</td>\n",
       "      <td>8328</td>\n",
       "      <td>0.000000</td>\n",
       "      <td>17</td>\n",
       "      <td>363</td>\n",
       "      <td>1</td>\n",
       "      <td>2</td>\n",
       "      <td>1</td>\n",
       "      <td>6000</td>\n",
       "    </tr>\n",
       "    <tr>\n",
       "      <th>1</th>\n",
       "      <td>79428</td>\n",
       "      <td>LP001448</td>\n",
       "      <td>1</td>\n",
       "      <td>1</td>\n",
       "      <td>0</td>\n",
       "      <td>0</td>\n",
       "      <td>0</td>\n",
       "      <td>150</td>\n",
       "      <td>3857.458782</td>\n",
       "      <td>188</td>\n",
       "      <td>370</td>\n",
       "      <td>1</td>\n",
       "      <td>1</td>\n",
       "      <td>0</td>\n",
       "      <td>6000</td>\n",
       "    </tr>\n",
       "    <tr>\n",
       "      <th>2</th>\n",
       "      <td>70497</td>\n",
       "      <td>LP002231</td>\n",
       "      <td>0</td>\n",
       "      <td>0</td>\n",
       "      <td>0</td>\n",
       "      <td>0</td>\n",
       "      <td>0</td>\n",
       "      <td>4989</td>\n",
       "      <td>314.472511</td>\n",
       "      <td>17</td>\n",
       "      <td>348</td>\n",
       "      <td>1</td>\n",
       "      <td>0</td>\n",
       "      <td>0</td>\n",
       "      <td>6000</td>\n",
       "    </tr>\n",
       "    <tr>\n",
       "      <th>3</th>\n",
       "      <td>87480</td>\n",
       "      <td>LP001385</td>\n",
       "      <td>1</td>\n",
       "      <td>1</td>\n",
       "      <td>0</td>\n",
       "      <td>0</td>\n",
       "      <td>0</td>\n",
       "      <td>150</td>\n",
       "      <td>0.000000</td>\n",
       "      <td>232</td>\n",
       "      <td>359</td>\n",
       "      <td>1</td>\n",
       "      <td>1</td>\n",
       "      <td>1</td>\n",
       "      <td>3750</td>\n",
       "    </tr>\n",
       "    <tr>\n",
       "      <th>4</th>\n",
       "      <td>33964</td>\n",
       "      <td>LP002231</td>\n",
       "      <td>1</td>\n",
       "      <td>1</td>\n",
       "      <td>1</td>\n",
       "      <td>0</td>\n",
       "      <td>0</td>\n",
       "      <td>8059</td>\n",
       "      <td>0.000000</td>\n",
       "      <td>17</td>\n",
       "      <td>372</td>\n",
       "      <td>1</td>\n",
       "      <td>0</td>\n",
       "      <td>1</td>\n",
       "      <td>3750</td>\n",
       "    </tr>\n",
       "  </tbody>\n",
       "</table>\n",
       "</div>"
      ],
      "text/plain": [
       "      ID   Loan_ID  Gender  Married Dependents  Education  Self_Employed  \\\n",
       "0  74768  LP002231       1        1          0          1              0   \n",
       "1  79428  LP001448       1        1          0          0              0   \n",
       "2  70497  LP002231       0        0          0          0              0   \n",
       "3  87480  LP001385       1        1          0          0              0   \n",
       "4  33964  LP002231       1        1          1          0              0   \n",
       "\n",
       "   ApplicantIncome  CoapplicantIncome  LoanAmount  Loan_Amount_Term  \\\n",
       "0             8328           0.000000          17               363   \n",
       "1              150        3857.458782         188               370   \n",
       "2             4989         314.472511          17               348   \n",
       "3              150           0.000000         232               359   \n",
       "4             8059           0.000000          17               372   \n",
       "\n",
       "   Credit_History  Property_Area  Loan_Status  Total_Income  \n",
       "0               1              2            1          6000  \n",
       "1               1              1            0          6000  \n",
       "2               1              0            0          6000  \n",
       "3               1              1            1          3750  \n",
       "4               1              0            1          3750  "
      ]
     },
     "execution_count": 9,
     "metadata": {},
     "output_type": "execute_result"
    }
   ],
   "source": [
    "train_b.head()"
   ]
  },
  {
   "cell_type": "code",
   "execution_count": 10,
   "id": "cfa5b786",
   "metadata": {},
   "outputs": [
    {
     "data": {
      "text/html": [
       "<div>\n",
       "<style scoped>\n",
       "    .dataframe tbody tr th:only-of-type {\n",
       "        vertical-align: middle;\n",
       "    }\n",
       "\n",
       "    .dataframe tbody tr th {\n",
       "        vertical-align: top;\n",
       "    }\n",
       "\n",
       "    .dataframe thead th {\n",
       "        text-align: right;\n",
       "    }\n",
       "</style>\n",
       "<table border=\"1\" class=\"dataframe\">\n",
       "  <thead>\n",
       "    <tr style=\"text-align: right;\">\n",
       "      <th></th>\n",
       "      <th>ID</th>\n",
       "      <th>Loan_ID</th>\n",
       "      <th>Gender</th>\n",
       "      <th>Married</th>\n",
       "      <th>Dependents</th>\n",
       "      <th>Education</th>\n",
       "      <th>Self_Employed</th>\n",
       "      <th>ApplicantIncome</th>\n",
       "      <th>CoapplicantIncome</th>\n",
       "      <th>LoanAmount</th>\n",
       "      <th>Loan_Amount_Term</th>\n",
       "      <th>Credit_History</th>\n",
       "      <th>Property_Area</th>\n",
       "      <th>Total_Income</th>\n",
       "    </tr>\n",
       "  </thead>\n",
       "  <tbody>\n",
       "    <tr>\n",
       "      <th>0</th>\n",
       "      <td>70607</td>\n",
       "      <td>LP002560</td>\n",
       "      <td>1</td>\n",
       "      <td>1</td>\n",
       "      <td>0</td>\n",
       "      <td>1</td>\n",
       "      <td>0</td>\n",
       "      <td>15890</td>\n",
       "      <td>871.075952</td>\n",
       "      <td>188</td>\n",
       "      <td>371</td>\n",
       "      <td>1</td>\n",
       "      <td>1</td>\n",
       "      <td>6000</td>\n",
       "    </tr>\n",
       "    <tr>\n",
       "      <th>1</th>\n",
       "      <td>58412</td>\n",
       "      <td>LP001379</td>\n",
       "      <td>1</td>\n",
       "      <td>1</td>\n",
       "      <td>0</td>\n",
       "      <td>0</td>\n",
       "      <td>1</td>\n",
       "      <td>6582</td>\n",
       "      <td>896.718887</td>\n",
       "      <td>17</td>\n",
       "      <td>373</td>\n",
       "      <td>0</td>\n",
       "      <td>1</td>\n",
       "      <td>6000</td>\n",
       "    </tr>\n",
       "    <tr>\n",
       "      <th>2</th>\n",
       "      <td>88755</td>\n",
       "      <td>LP002560</td>\n",
       "      <td>0</td>\n",
       "      <td>0</td>\n",
       "      <td>0</td>\n",
       "      <td>0</td>\n",
       "      <td>0</td>\n",
       "      <td>7869</td>\n",
       "      <td>572.900354</td>\n",
       "      <td>17</td>\n",
       "      <td>373</td>\n",
       "      <td>1</td>\n",
       "      <td>1</td>\n",
       "      <td>6000</td>\n",
       "    </tr>\n",
       "    <tr>\n",
       "      <th>3</th>\n",
       "      <td>97271</td>\n",
       "      <td>LP002560</td>\n",
       "      <td>1</td>\n",
       "      <td>1</td>\n",
       "      <td>0</td>\n",
       "      <td>0</td>\n",
       "      <td>0</td>\n",
       "      <td>150</td>\n",
       "      <td>0.000000</td>\n",
       "      <td>247</td>\n",
       "      <td>349</td>\n",
       "      <td>1</td>\n",
       "      <td>2</td>\n",
       "      <td>6000</td>\n",
       "    </tr>\n",
       "    <tr>\n",
       "      <th>4</th>\n",
       "      <td>70478</td>\n",
       "      <td>LP002231</td>\n",
       "      <td>1</td>\n",
       "      <td>1</td>\n",
       "      <td>0</td>\n",
       "      <td>0</td>\n",
       "      <td>0</td>\n",
       "      <td>8362</td>\n",
       "      <td>0.000000</td>\n",
       "      <td>17</td>\n",
       "      <td>12</td>\n",
       "      <td>1</td>\n",
       "      <td>2</td>\n",
       "      <td>3750</td>\n",
       "    </tr>\n",
       "  </tbody>\n",
       "</table>\n",
       "</div>"
      ],
      "text/plain": [
       "      ID   Loan_ID  Gender  Married Dependents  Education  Self_Employed  \\\n",
       "0  70607  LP002560       1        1          0          1              0   \n",
       "1  58412  LP001379       1        1          0          0              1   \n",
       "2  88755  LP002560       0        0          0          0              0   \n",
       "3  97271  LP002560       1        1          0          0              0   \n",
       "4  70478  LP002231       1        1          0          0              0   \n",
       "\n",
       "   ApplicantIncome  CoapplicantIncome  LoanAmount  Loan_Amount_Term  \\\n",
       "0            15890         871.075952         188               371   \n",
       "1             6582         896.718887          17               373   \n",
       "2             7869         572.900354          17               373   \n",
       "3              150           0.000000         247               349   \n",
       "4             8362           0.000000          17                12   \n",
       "\n",
       "   Credit_History  Property_Area  Total_Income  \n",
       "0               1              1          6000  \n",
       "1               0              1          6000  \n",
       "2               1              1          6000  \n",
       "3               1              2          6000  \n",
       "4               1              2          3750  "
      ]
     },
     "execution_count": 10,
     "metadata": {},
     "output_type": "execute_result"
    }
   ],
   "source": [
    "test_b.head()"
   ]
  },
  {
   "cell_type": "code",
   "execution_count": 11,
   "id": "c397441f",
   "metadata": {},
   "outputs": [
    {
     "data": {
      "text/html": [
       "<div>\n",
       "<style scoped>\n",
       "    .dataframe tbody tr th:only-of-type {\n",
       "        vertical-align: middle;\n",
       "    }\n",
       "\n",
       "    .dataframe tbody tr th {\n",
       "        vertical-align: top;\n",
       "    }\n",
       "\n",
       "    .dataframe thead th {\n",
       "        text-align: right;\n",
       "    }\n",
       "</style>\n",
       "<table border=\"1\" class=\"dataframe\">\n",
       "  <thead>\n",
       "    <tr style=\"text-align: right;\">\n",
       "      <th></th>\n",
       "      <th>ID</th>\n",
       "      <th>Gender</th>\n",
       "      <th>Married</th>\n",
       "      <th>Education</th>\n",
       "      <th>Self_Employed</th>\n",
       "      <th>ApplicantIncome</th>\n",
       "      <th>CoapplicantIncome</th>\n",
       "      <th>LoanAmount</th>\n",
       "      <th>Loan_Amount_Term</th>\n",
       "      <th>Credit_History</th>\n",
       "      <th>Property_Area</th>\n",
       "      <th>Loan_Status</th>\n",
       "      <th>Total_Income</th>\n",
       "    </tr>\n",
       "  </thead>\n",
       "  <tbody>\n",
       "    <tr>\n",
       "      <th>count</th>\n",
       "      <td>5898.000000</td>\n",
       "      <td>5898.000000</td>\n",
       "      <td>5898.000000</td>\n",
       "      <td>5898.000000</td>\n",
       "      <td>5898.000000</td>\n",
       "      <td>5898.000000</td>\n",
       "      <td>5898.000000</td>\n",
       "      <td>5898.000000</td>\n",
       "      <td>5898.000000</td>\n",
       "      <td>5898.000000</td>\n",
       "      <td>5898.000000</td>\n",
       "      <td>5898.000000</td>\n",
       "      <td>5898.000000</td>\n",
       "    </tr>\n",
       "    <tr>\n",
       "      <th>mean</th>\n",
       "      <td>54964.183452</td>\n",
       "      <td>0.910817</td>\n",
       "      <td>0.854527</td>\n",
       "      <td>0.120210</td>\n",
       "      <td>0.107664</td>\n",
       "      <td>7782.026958</td>\n",
       "      <td>1245.954548</td>\n",
       "      <td>97.410478</td>\n",
       "      <td>359.114954</td>\n",
       "      <td>0.920482</td>\n",
       "      <td>1.183961</td>\n",
       "      <td>0.832994</td>\n",
       "      <td>5239.284503</td>\n",
       "    </tr>\n",
       "    <tr>\n",
       "      <th>std</th>\n",
       "      <td>26133.640949</td>\n",
       "      <td>0.285032</td>\n",
       "      <td>0.352607</td>\n",
       "      <td>0.325235</td>\n",
       "      <td>0.309981</td>\n",
       "      <td>9182.571831</td>\n",
       "      <td>2368.012349</td>\n",
       "      <td>103.483478</td>\n",
       "      <td>48.876088</td>\n",
       "      <td>0.270569</td>\n",
       "      <td>0.730568</td>\n",
       "      <td>0.373013</td>\n",
       "      <td>2308.679455</td>\n",
       "    </tr>\n",
       "    <tr>\n",
       "      <th>min</th>\n",
       "      <td>10002.000000</td>\n",
       "      <td>0.000000</td>\n",
       "      <td>0.000000</td>\n",
       "      <td>0.000000</td>\n",
       "      <td>0.000000</td>\n",
       "      <td>150.000000</td>\n",
       "      <td>0.000000</td>\n",
       "      <td>17.000000</td>\n",
       "      <td>12.000000</td>\n",
       "      <td>0.000000</td>\n",
       "      <td>0.000000</td>\n",
       "      <td>0.000000</td>\n",
       "      <td>1963.000000</td>\n",
       "    </tr>\n",
       "    <tr>\n",
       "      <th>25%</th>\n",
       "      <td>32337.000000</td>\n",
       "      <td>1.000000</td>\n",
       "      <td>1.000000</td>\n",
       "      <td>0.000000</td>\n",
       "      <td>0.000000</td>\n",
       "      <td>2342.250000</td>\n",
       "      <td>0.000000</td>\n",
       "      <td>17.000000</td>\n",
       "      <td>357.000000</td>\n",
       "      <td>1.000000</td>\n",
       "      <td>1.000000</td>\n",
       "      <td>1.000000</td>\n",
       "      <td>3750.000000</td>\n",
       "    </tr>\n",
       "    <tr>\n",
       "      <th>50%</th>\n",
       "      <td>55501.000000</td>\n",
       "      <td>1.000000</td>\n",
       "      <td>1.000000</td>\n",
       "      <td>0.000000</td>\n",
       "      <td>0.000000</td>\n",
       "      <td>6989.000000</td>\n",
       "      <td>117.562275</td>\n",
       "      <td>42.000000</td>\n",
       "      <td>368.000000</td>\n",
       "      <td>1.000000</td>\n",
       "      <td>1.000000</td>\n",
       "      <td>1.000000</td>\n",
       "      <td>6000.000000</td>\n",
       "    </tr>\n",
       "    <tr>\n",
       "      <th>75%</th>\n",
       "      <td>77775.750000</td>\n",
       "      <td>1.000000</td>\n",
       "      <td>1.000000</td>\n",
       "      <td>0.000000</td>\n",
       "      <td>0.000000</td>\n",
       "      <td>8375.000000</td>\n",
       "      <td>1680.894542</td>\n",
       "      <td>174.000000</td>\n",
       "      <td>372.000000</td>\n",
       "      <td>1.000000</td>\n",
       "      <td>2.000000</td>\n",
       "      <td>1.000000</td>\n",
       "      <td>6000.000000</td>\n",
       "    </tr>\n",
       "    <tr>\n",
       "      <th>max</th>\n",
       "      <td>99998.000000</td>\n",
       "      <td>1.000000</td>\n",
       "      <td>1.000000</td>\n",
       "      <td>1.000000</td>\n",
       "      <td>1.000000</td>\n",
       "      <td>81000.000000</td>\n",
       "      <td>20000.000000</td>\n",
       "      <td>700.000000</td>\n",
       "      <td>480.000000</td>\n",
       "      <td>1.000000</td>\n",
       "      <td>2.000000</td>\n",
       "      <td>1.000000</td>\n",
       "      <td>22500.000000</td>\n",
       "    </tr>\n",
       "  </tbody>\n",
       "</table>\n",
       "</div>"
      ],
      "text/plain": [
       "                 ID       Gender      Married    Education  Self_Employed  \\\n",
       "count   5898.000000  5898.000000  5898.000000  5898.000000    5898.000000   \n",
       "mean   54964.183452     0.910817     0.854527     0.120210       0.107664   \n",
       "std    26133.640949     0.285032     0.352607     0.325235       0.309981   \n",
       "min    10002.000000     0.000000     0.000000     0.000000       0.000000   \n",
       "25%    32337.000000     1.000000     1.000000     0.000000       0.000000   \n",
       "50%    55501.000000     1.000000     1.000000     0.000000       0.000000   \n",
       "75%    77775.750000     1.000000     1.000000     0.000000       0.000000   \n",
       "max    99998.000000     1.000000     1.000000     1.000000       1.000000   \n",
       "\n",
       "       ApplicantIncome  CoapplicantIncome   LoanAmount  Loan_Amount_Term  \\\n",
       "count      5898.000000        5898.000000  5898.000000       5898.000000   \n",
       "mean       7782.026958        1245.954548    97.410478        359.114954   \n",
       "std        9182.571831        2368.012349   103.483478         48.876088   \n",
       "min         150.000000           0.000000    17.000000         12.000000   \n",
       "25%        2342.250000           0.000000    17.000000        357.000000   \n",
       "50%        6989.000000         117.562275    42.000000        368.000000   \n",
       "75%        8375.000000        1680.894542   174.000000        372.000000   \n",
       "max       81000.000000       20000.000000   700.000000        480.000000   \n",
       "\n",
       "       Credit_History  Property_Area  Loan_Status  Total_Income  \n",
       "count     5898.000000    5898.000000  5898.000000   5898.000000  \n",
       "mean         0.920482       1.183961     0.832994   5239.284503  \n",
       "std          0.270569       0.730568     0.373013   2308.679455  \n",
       "min          0.000000       0.000000     0.000000   1963.000000  \n",
       "25%          1.000000       1.000000     1.000000   3750.000000  \n",
       "50%          1.000000       1.000000     1.000000   6000.000000  \n",
       "75%          1.000000       2.000000     1.000000   6000.000000  \n",
       "max          1.000000       2.000000     1.000000  22500.000000  "
      ]
     },
     "execution_count": 11,
     "metadata": {},
     "output_type": "execute_result"
    }
   ],
   "source": [
    "train_b.describe()"
   ]
  },
  {
   "cell_type": "code",
   "execution_count": 12,
   "id": "0cc12e7a",
   "metadata": {},
   "outputs": [
    {
     "name": "stdout",
     "output_type": "stream",
     "text": [
      "<class 'pandas.core.frame.DataFrame'>\n",
      "RangeIndex: 5898 entries, 0 to 5897\n",
      "Data columns (total 15 columns):\n",
      " #   Column             Non-Null Count  Dtype  \n",
      "---  ------             --------------  -----  \n",
      " 0   ID                 5898 non-null   int64  \n",
      " 1   Loan_ID            5898 non-null   object \n",
      " 2   Gender             5898 non-null   int64  \n",
      " 3   Married            5898 non-null   int64  \n",
      " 4   Dependents         5898 non-null   object \n",
      " 5   Education          5898 non-null   int64  \n",
      " 6   Self_Employed      5898 non-null   int64  \n",
      " 7   ApplicantIncome    5898 non-null   int64  \n",
      " 8   CoapplicantIncome  5898 non-null   float64\n",
      " 9   LoanAmount         5898 non-null   int64  \n",
      " 10  Loan_Amount_Term   5898 non-null   int64  \n",
      " 11  Credit_History     5898 non-null   int64  \n",
      " 12  Property_Area      5898 non-null   int64  \n",
      " 13  Loan_Status        5898 non-null   int64  \n",
      " 14  Total_Income       5898 non-null   int64  \n",
      "dtypes: float64(1), int64(12), object(2)\n",
      "memory usage: 691.3+ KB\n"
     ]
    }
   ],
   "source": [
    "train_b.info()"
   ]
  },
  {
   "cell_type": "code",
   "execution_count": 13,
   "id": "f916cbbd",
   "metadata": {},
   "outputs": [
    {
     "name": "stdout",
     "output_type": "stream",
     "text": [
      "Missing values in training data:\n",
      "ID                   0\n",
      "Loan_ID              0\n",
      "Gender               0\n",
      "Married              0\n",
      "Dependents           0\n",
      "Education            0\n",
      "Self_Employed        0\n",
      "ApplicantIncome      0\n",
      "CoapplicantIncome    0\n",
      "LoanAmount           0\n",
      "Loan_Amount_Term     0\n",
      "Credit_History       0\n",
      "Property_Area        0\n",
      "Loan_Status          0\n",
      "Total_Income         0\n",
      "dtype: int64\n",
      "\n",
      "Missing values in test data:\n",
      "ID                   0\n",
      "Loan_ID              0\n",
      "Gender               0\n",
      "Married              0\n",
      "Dependents           0\n",
      "Education            0\n",
      "Self_Employed        0\n",
      "ApplicantIncome      0\n",
      "CoapplicantIncome    0\n",
      "LoanAmount           0\n",
      "Loan_Amount_Term     0\n",
      "Credit_History       0\n",
      "Property_Area        0\n",
      "Total_Income         0\n",
      "dtype: int64\n"
     ]
    }
   ],
   "source": [
    "# Checking for Missing Values\n",
    "\n",
    "print(\"Missing values in training data:\")\n",
    "print(train_b.isnull().sum())\n",
    "print(\"\\nMissing values in test data:\")\n",
    "print(test_b.isnull().sum())"
   ]
  },
  {
   "cell_type": "code",
   "execution_count": 14,
   "id": "76835435",
   "metadata": {},
   "outputs": [],
   "source": [
    "#Data visualization\n"
   ]
  },
  {
   "cell_type": "markdown",
   "id": "84c02cfe",
   "metadata": {},
   "source": [
    "sns.pairplot(train_b,hue='Loan_Status',markers=['o','s'])\n",
    "plt.show()"
   ]
  },
  {
   "cell_type": "code",
   "execution_count": 15,
   "id": "ffa86324",
   "metadata": {},
   "outputs": [
    {
     "data": {
      "text/plain": [
       "<Axes: xlabel='Married', ylabel='Loan_Status'>"
      ]
     },
     "execution_count": 15,
     "metadata": {},
     "output_type": "execute_result"
    },
    {
     "data": {
      "image/png": "[encoded data removed]",
      "text/plain": [
       "<Figure size 640x480 with 1 Axes>"
      ]
     },
     "metadata": {},
     "output_type": "display_data"
    }
   ],
   "source": [
    "sns.barplot(x=\"Married\",y=\"Loan_Status\" , data=train_b)"
   ]
  },
  {
   "cell_type": "code",
   "execution_count": 16,
   "id": "ad25d5f3",
   "metadata": {
    "scrolled": true
   },
   "outputs": [
    {
     "data": {
      "text/plain": [
       "<Axes: xlabel='Loan_Status', ylabel='Education'>"
      ]
     },
     "execution_count": 16,
     "metadata": {},
     "output_type": "execute_result"
    },
    {
     "data": {
      "image/png": "[encoded data removed]",
      "text/plain": [
       "<Figure size 640x480 with 1 Axes>"
      ]
     },
     "metadata": {},
     "output_type": "display_data"
    }
   ],
   "source": [
    "sns.barplot(x=\"Loan_Status\", y='Education', data=train_b)"
   ]
  },
  {
   "cell_type": "code",
   "execution_count": 17,
   "id": "b267d25e",
   "metadata": {},
   "outputs": [
    {
     "data": {
      "text/plain": [
       "<Axes: xlabel='Loan_Status', ylabel='Property_Area'>"
      ]
     },
     "execution_count": 17,
     "metadata": {},
     "output_type": "execute_result"
    },
    {
     "data": {
      "image/png": "[encoded data removed]",
      "text/plain": [
       "<Figure size 640x480 with 1 Axes>"
      ]
     },
     "metadata": {},
     "output_type": "display_data"
    }
   ],
   "source": [
    "sns.barplot(x=\"Loan_Status\", y='Property_Area', data=train_b)"
   ]
  },
  {
   "cell_type": "code",
   "execution_count": 18,
   "id": "fd9c59c6",
   "metadata": {},
   "outputs": [
    {
     "data": {
      "text/plain": [
       "<Axes: xlabel='Married', ylabel='Gender'>"
      ]
     },
     "execution_count": 18,
     "metadata": {},
     "output_type": "execute_result"
    },
    {
     "data": {
      "image/png": "[encoded data removed]",
      "text/plain": [
       "<Figure size 640x480 with 1 Axes>"
      ]
     },
     "metadata": {},
     "output_type": "display_data"
    }
   ],
   "source": [
    "sns.barplot(x=\"Married\",y=\"Gender\" , data=train_b)"
   ]
  },
  {
   "cell_type": "code",
   "execution_count": 19,
   "id": "c74133b3",
   "metadata": {},
   "outputs": [
    {
     "data": {
      "text/plain": [
       "<Axes: xlabel='Loan_Status', ylabel='Credit_History'>"
      ]
     },
     "execution_count": 19,
     "metadata": {},
     "output_type": "execute_result"
    },
    {
     "data": {
      "image/png": "[encoded data removed]",
      "text/plain": [
       "<Figure size 640x480 with 1 Axes>"
      ]
     },
     "metadata": {},
     "output_type": "display_data"
    }
   ],
   "source": [
    "sns.lineplot(x='Loan_Status',y='Credit_History',data=train_b)"
   ]
  },
  {
   "cell_type": "code",
   "execution_count": 20,
   "id": "bb5624ec",
   "metadata": {
    "scrolled": true
   },
   "outputs": [
    {
     "data": {
      "text/plain": [
       "<Axes: xlabel='Loan_Status', ylabel='Gender'>"
      ]
     },
     "execution_count": 20,
     "metadata": {},
     "output_type": "execute_result"
    },
    {
     "data": {
      "image/png": "[encoded data removed]",
      "text/plain": [
       "<Figure size 640x480 with 1 Axes>"
      ]
     },
     "metadata": {},
     "output_type": "display_data"
    }
   ],
   "source": [
    "sns.scatterplot(x='Loan_Status',y='Gender',data=train_b)"
   ]
  },
  {
   "cell_type": "code",
   "execution_count": 21,
   "id": "7c994c47",
   "metadata": {
    "scrolled": true
   },
   "outputs": [
    {
     "data": {
      "text/html": [
       "<div>\n",
       "<style scoped>\n",
       "    .dataframe tbody tr th:only-of-type {\n",
       "        vertical-align: middle;\n",
       "    }\n",
       "\n",
       "    .dataframe tbody tr th {\n",
       "        vertical-align: top;\n",
       "    }\n",
       "\n",
       "    .dataframe thead th {\n",
       "        text-align: right;\n",
       "    }\n",
       "</style>\n",
       "<table border=\"1\" class=\"dataframe\">\n",
       "  <thead>\n",
       "    <tr style=\"text-align: right;\">\n",
       "      <th></th>\n",
       "      <th>ID</th>\n",
       "      <th>Loan_ID</th>\n",
       "      <th>Gender</th>\n",
       "      <th>Married</th>\n",
       "      <th>Dependents</th>\n",
       "      <th>Education</th>\n",
       "      <th>Self_Employed</th>\n",
       "      <th>ApplicantIncome</th>\n",
       "      <th>CoapplicantIncome</th>\n",
       "      <th>LoanAmount</th>\n",
       "      <th>Loan_Amount_Term</th>\n",
       "      <th>Credit_History</th>\n",
       "      <th>Property_Area</th>\n",
       "      <th>Loan_Status</th>\n",
       "      <th>Total_Income</th>\n",
       "    </tr>\n",
       "  </thead>\n",
       "  <tbody>\n",
       "    <tr>\n",
       "      <th>0</th>\n",
       "      <td>74768</td>\n",
       "      <td>LP002231</td>\n",
       "      <td>1</td>\n",
       "      <td>1</td>\n",
       "      <td>0</td>\n",
       "      <td>1</td>\n",
       "      <td>0</td>\n",
       "      <td>8328</td>\n",
       "      <td>0.000000</td>\n",
       "      <td>17</td>\n",
       "      <td>363</td>\n",
       "      <td>1</td>\n",
       "      <td>2</td>\n",
       "      <td>1</td>\n",
       "      <td>6000</td>\n",
       "    </tr>\n",
       "    <tr>\n",
       "      <th>1</th>\n",
       "      <td>79428</td>\n",
       "      <td>LP001448</td>\n",
       "      <td>1</td>\n",
       "      <td>1</td>\n",
       "      <td>0</td>\n",
       "      <td>0</td>\n",
       "      <td>0</td>\n",
       "      <td>150</td>\n",
       "      <td>3857.458782</td>\n",
       "      <td>188</td>\n",
       "      <td>370</td>\n",
       "      <td>1</td>\n",
       "      <td>1</td>\n",
       "      <td>0</td>\n",
       "      <td>6000</td>\n",
       "    </tr>\n",
       "    <tr>\n",
       "      <th>2</th>\n",
       "      <td>70497</td>\n",
       "      <td>LP002231</td>\n",
       "      <td>0</td>\n",
       "      <td>0</td>\n",
       "      <td>0</td>\n",
       "      <td>0</td>\n",
       "      <td>0</td>\n",
       "      <td>4989</td>\n",
       "      <td>314.472511</td>\n",
       "      <td>17</td>\n",
       "      <td>348</td>\n",
       "      <td>1</td>\n",
       "      <td>0</td>\n",
       "      <td>0</td>\n",
       "      <td>6000</td>\n",
       "    </tr>\n",
       "    <tr>\n",
       "      <th>3</th>\n",
       "      <td>87480</td>\n",
       "      <td>LP001385</td>\n",
       "      <td>1</td>\n",
       "      <td>1</td>\n",
       "      <td>0</td>\n",
       "      <td>0</td>\n",
       "      <td>0</td>\n",
       "      <td>150</td>\n",
       "      <td>0.000000</td>\n",
       "      <td>232</td>\n",
       "      <td>359</td>\n",
       "      <td>1</td>\n",
       "      <td>1</td>\n",
       "      <td>1</td>\n",
       "      <td>3750</td>\n",
       "    </tr>\n",
       "    <tr>\n",
       "      <th>4</th>\n",
       "      <td>33964</td>\n",
       "      <td>LP002231</td>\n",
       "      <td>1</td>\n",
       "      <td>1</td>\n",
       "      <td>1</td>\n",
       "      <td>0</td>\n",
       "      <td>0</td>\n",
       "      <td>8059</td>\n",
       "      <td>0.000000</td>\n",
       "      <td>17</td>\n",
       "      <td>372</td>\n",
       "      <td>1</td>\n",
       "      <td>0</td>\n",
       "      <td>1</td>\n",
       "      <td>3750</td>\n",
       "    </tr>\n",
       "  </tbody>\n",
       "</table>\n",
       "</div>"
      ],
      "text/plain": [
       "      ID   Loan_ID  Gender  Married Dependents  Education  Self_Employed  \\\n",
       "0  74768  LP002231       1        1          0          1              0   \n",
       "1  79428  LP001448       1        1          0          0              0   \n",
       "2  70497  LP002231       0        0          0          0              0   \n",
       "3  87480  LP001385       1        1          0          0              0   \n",
       "4  33964  LP002231       1        1          1          0              0   \n",
       "\n",
       "   ApplicantIncome  CoapplicantIncome  LoanAmount  Loan_Amount_Term  \\\n",
       "0             8328           0.000000          17               363   \n",
       "1              150        3857.458782         188               370   \n",
       "2             4989         314.472511          17               348   \n",
       "3              150           0.000000         232               359   \n",
       "4             8059           0.000000          17               372   \n",
       "\n",
       "   Credit_History  Property_Area  Loan_Status  Total_Income  \n",
       "0               1              2            1          6000  \n",
       "1               1              1            0          6000  \n",
       "2               1              0            0          6000  \n",
       "3               1              1            1          3750  \n",
       "4               1              0            1          3750  "
      ]
     },
     "execution_count": 21,
     "metadata": {},
     "output_type": "execute_result"
    }
   ],
   "source": [
    "train_b.head()"
   ]
  },
  {
   "cell_type": "code",
   "execution_count": 22,
   "id": "da129d7d",
   "metadata": {},
   "outputs": [],
   "source": [
    "#Feature Engineering\n",
    "#Only two columns, Loan_ID and Dependents have non-numeric data type\"\"\"\n",
    "#The Loan_Is is not of impoprtance at the moment, so we will be dropping it\"\"\"\n",
    "#And for the Dependents columnm, we will be performing one hot encoding with the use of the pd.get_dummies() method."
   ]
  },
  {
   "cell_type": "markdown",
   "id": "55f3265e",
   "metadata": {},
   "source": [
    "### features Engineering"
   ]
  },
  {
   "cell_type": "code",
   "execution_count": 23,
   "id": "7186357d",
   "metadata": {},
   "outputs": [],
   "source": [
    "from sklearn.preprocessing import LabelEncoder\n",
    "\n",
    "# Initialize LabelEncoder\n",
    "label_encoder = LabelEncoder()\n",
    "\n",
    "# Fit and transform the data\n",
    "train_b.loc[:,'Dependents_N'] = label_encoder.fit_transform(train_b['Dependents'].astype(str))\n",
    "\n",
    "\n",
    "test_b.loc[:,'Dependents_N'] = label_encoder.fit_transform(test_b['Dependents'].astype(str))\n"
   ]
  },
  {
   "cell_type": "code",
   "execution_count": 24,
   "id": "3f72ff89",
   "metadata": {},
   "outputs": [
    {
     "data": {
      "text/html": [
       "<div>\n",
       "<style scoped>\n",
       "    .dataframe tbody tr th:only-of-type {\n",
       "        vertical-align: middle;\n",
       "    }\n",
       "\n",
       "    .dataframe tbody tr th {\n",
       "        vertical-align: top;\n",
       "    }\n",
       "\n",
       "    .dataframe thead th {\n",
       "        text-align: right;\n",
       "    }\n",
       "</style>\n",
       "<table border=\"1\" class=\"dataframe\">\n",
       "  <thead>\n",
       "    <tr style=\"text-align: right;\">\n",
       "      <th></th>\n",
       "      <th>ID</th>\n",
       "      <th>Loan_ID</th>\n",
       "      <th>Gender</th>\n",
       "      <th>Married</th>\n",
       "      <th>Dependents</th>\n",
       "      <th>Education</th>\n",
       "      <th>Self_Employed</th>\n",
       "      <th>ApplicantIncome</th>\n",
       "      <th>CoapplicantIncome</th>\n",
       "      <th>LoanAmount</th>\n",
       "      <th>Loan_Amount_Term</th>\n",
       "      <th>Credit_History</th>\n",
       "      <th>Property_Area</th>\n",
       "      <th>Loan_Status</th>\n",
       "      <th>Total_Income</th>\n",
       "      <th>Dependents_N</th>\n",
       "    </tr>\n",
       "  </thead>\n",
       "  <tbody>\n",
       "    <tr>\n",
       "      <th>0</th>\n",
       "      <td>74768</td>\n",
       "      <td>LP002231</td>\n",
       "      <td>1</td>\n",
       "      <td>1</td>\n",
       "      <td>0</td>\n",
       "      <td>1</td>\n",
       "      <td>0</td>\n",
       "      <td>8328</td>\n",
       "      <td>0.000000</td>\n",
       "      <td>17</td>\n",
       "      <td>363</td>\n",
       "      <td>1</td>\n",
       "      <td>2</td>\n",
       "      <td>1</td>\n",
       "      <td>6000</td>\n",
       "      <td>0</td>\n",
       "    </tr>\n",
       "    <tr>\n",
       "      <th>1</th>\n",
       "      <td>79428</td>\n",
       "      <td>LP001448</td>\n",
       "      <td>1</td>\n",
       "      <td>1</td>\n",
       "      <td>0</td>\n",
       "      <td>0</td>\n",
       "      <td>0</td>\n",
       "      <td>150</td>\n",
       "      <td>3857.458782</td>\n",
       "      <td>188</td>\n",
       "      <td>370</td>\n",
       "      <td>1</td>\n",
       "      <td>1</td>\n",
       "      <td>0</td>\n",
       "      <td>6000</td>\n",
       "      <td>0</td>\n",
       "    </tr>\n",
       "    <tr>\n",
       "      <th>2</th>\n",
       "      <td>70497</td>\n",
       "      <td>LP002231</td>\n",
       "      <td>0</td>\n",
       "      <td>0</td>\n",
       "      <td>0</td>\n",
       "      <td>0</td>\n",
       "      <td>0</td>\n",
       "      <td>4989</td>\n",
       "      <td>314.472511</td>\n",
       "      <td>17</td>\n",
       "      <td>348</td>\n",
       "      <td>1</td>\n",
       "      <td>0</td>\n",
       "      <td>0</td>\n",
       "      <td>6000</td>\n",
       "      <td>0</td>\n",
       "    </tr>\n",
       "    <tr>\n",
       "      <th>3</th>\n",
       "      <td>87480</td>\n",
       "      <td>LP001385</td>\n",
       "      <td>1</td>\n",
       "      <td>1</td>\n",
       "      <td>0</td>\n",
       "      <td>0</td>\n",
       "      <td>0</td>\n",
       "      <td>150</td>\n",
       "      <td>0.000000</td>\n",
       "      <td>232</td>\n",
       "      <td>359</td>\n",
       "      <td>1</td>\n",
       "      <td>1</td>\n",
       "      <td>1</td>\n",
       "      <td>3750</td>\n",
       "      <td>0</td>\n",
       "    </tr>\n",
       "    <tr>\n",
       "      <th>4</th>\n",
       "      <td>33964</td>\n",
       "      <td>LP002231</td>\n",
       "      <td>1</td>\n",
       "      <td>1</td>\n",
       "      <td>1</td>\n",
       "      <td>0</td>\n",
       "      <td>0</td>\n",
       "      <td>8059</td>\n",
       "      <td>0.000000</td>\n",
       "      <td>17</td>\n",
       "      <td>372</td>\n",
       "      <td>1</td>\n",
       "      <td>0</td>\n",
       "      <td>1</td>\n",
       "      <td>3750</td>\n",
       "      <td>1</td>\n",
       "    </tr>\n",
       "  </tbody>\n",
       "</table>\n",
       "</div>"
      ],
      "text/plain": [
       "      ID   Loan_ID  Gender  Married Dependents  Education  Self_Employed  \\\n",
       "0  74768  LP002231       1        1          0          1              0   \n",
       "1  79428  LP001448       1        1          0          0              0   \n",
       "2  70497  LP002231       0        0          0          0              0   \n",
       "3  87480  LP001385       1        1          0          0              0   \n",
       "4  33964  LP002231       1        1          1          0              0   \n",
       "\n",
       "   ApplicantIncome  CoapplicantIncome  LoanAmount  Loan_Amount_Term  \\\n",
       "0             8328           0.000000          17               363   \n",
       "1              150        3857.458782         188               370   \n",
       "2             4989         314.472511          17               348   \n",
       "3              150           0.000000         232               359   \n",
       "4             8059           0.000000          17               372   \n",
       "\n",
       "   Credit_History  Property_Area  Loan_Status  Total_Income  Dependents_N  \n",
       "0               1              2            1          6000             0  \n",
       "1               1              1            0          6000             0  \n",
       "2               1              0            0          6000             0  \n",
       "3               1              1            1          3750             0  \n",
       "4               1              0            1          3750             1  "
      ]
     },
     "execution_count": 24,
     "metadata": {},
     "output_type": "execute_result"
    }
   ],
   "source": [
    "train_b.head()"
   ]
  },
  {
   "cell_type": "code",
   "execution_count": 25,
   "id": "ce777a07",
   "metadata": {},
   "outputs": [
    {
     "name": "stdout",
     "output_type": "stream",
     "text": [
      "<class 'pandas.core.frame.DataFrame'>\n",
      "RangeIndex: 5898 entries, 0 to 5897\n",
      "Data columns (total 16 columns):\n",
      " #   Column             Non-Null Count  Dtype  \n",
      "---  ------             --------------  -----  \n",
      " 0   ID                 5898 non-null   int64  \n",
      " 1   Loan_ID            5898 non-null   object \n",
      " 2   Gender             5898 non-null   int64  \n",
      " 3   Married            5898 non-null   int64  \n",
      " 4   Dependents         5898 non-null   object \n",
      " 5   Education          5898 non-null   int64  \n",
      " 6   Self_Employed      5898 non-null   int64  \n",
      " 7   ApplicantIncome    5898 non-null   int64  \n",
      " 8   CoapplicantIncome  5898 non-null   float64\n",
      " 9   LoanAmount         5898 non-null   int64  \n",
      " 10  Loan_Amount_Term   5898 non-null   int64  \n",
      " 11  Credit_History     5898 non-null   int64  \n",
      " 12  Property_Area      5898 non-null   int64  \n",
      " 13  Loan_Status        5898 non-null   int64  \n",
      " 14  Total_Income       5898 non-null   int64  \n",
      " 15  Dependents_N       5898 non-null   int32  \n",
      "dtypes: float64(1), int32(1), int64(12), object(2)\n",
      "memory usage: 714.3+ KB\n"
     ]
    }
   ],
   "source": [
    "train_b.info()"
   ]
  },
  {
   "cell_type": "code",
   "execution_count": 26,
   "id": "f87f443b",
   "metadata": {},
   "outputs": [],
   "source": [
    "X = train_b.drop(columns=['ID','Loan_ID','Dependents','Loan_Status','Gender','Married'], axis=1)\n",
    "y= train_b['Loan_Status']"
   ]
  },
  {
   "cell_type": "markdown",
   "id": "28ed87e7",
   "metadata": {},
   "source": [
    "### Model Building"
   ]
  },
  {
   "cell_type": "code",
   "execution_count": 27,
   "id": "b46bcea5",
   "metadata": {},
   "outputs": [],
   "source": [
    "from sklearn.model_selection import train_test_split\n",
    "from sklearn import svm\n",
    "from sklearn import metrics\n",
    "from sklearn.model_selection import GridSearchCV"
   ]
  },
  {
   "cell_type": "code",
   "execution_count": 28,
   "id": "1a59b3cc",
   "metadata": {},
   "outputs": [],
   "source": [
    "X_train,X_test,y_train,y_test= train_test_split(X,y , test_size=0.2, random_state = 42)"
   ]
  },
  {
   "cell_type": "code",
   "execution_count": null,
   "id": "abc9c941",
   "metadata": {},
   "outputs": [],
   "source": []
  },
  {
   "cell_type": "code",
   "execution_count": 29,
   "id": "5b048a4a",
   "metadata": {},
   "outputs": [],
   "source": [
    "from sklearn.ensemble import RandomForestClassifier\n",
    "from sklearn.model_selection import RandomizedSearchCV\n",
    "import numpy as np"
   ]
  },
  {
   "cell_type": "code",
   "execution_count": 30,
   "id": "4924a9e5",
   "metadata": {},
   "outputs": [],
   "source": [
    "rf = RandomForestClassifier(n_estimators =  800,min_samples_split = 5, min_samples_leaf =  1,max_features =  'log2',max_depth = 70,bootstrap=True )\n"
   ]
  },
  {
   "cell_type": "code",
   "execution_count": 31,
   "id": "82a82edd",
   "metadata": {},
   "outputs": [
    {
     "data": {
      "text/html": [
       "<style>#sk-container-id-1 {color: black;}#sk-container-id-1 pre{padding: 0;}#sk-container-id-1 div.sk-toggleable {background-color: white;}#sk-container-id-1 label.sk-toggleable__label {cursor: pointer;display: block;width: 100%;margin-bottom: 0;padding: 0.3em;box-sizing: border-box;text-align: center;}#sk-container-id-1 label.sk-toggleable__label-arrow:before {content: \"▸\";float: left;margin-right: 0.25em;color: #696969;}#sk-container-id-1 label.sk-toggleable__label-arrow:hover:before {color: black;}#sk-container-id-1 div.sk-estimator:hover label.sk-toggleable__label-arrow:before {color: black;}#sk-container-id-1 div.sk-toggleable__content {max-height: 0;max-width: 0;overflow: hidden;text-align: left;background-color: #f0f8ff;}#sk-container-id-1 div.sk-toggleable__content pre {margin: 0.2em;color: black;border-radius: 0.25em;background-color: #f0f8ff;}#sk-container-id-1 input.sk-toggleable__control:checked~div.sk-toggleable__content {max-height: 200px;max-width: 100%;overflow: auto;}#sk-container-id-1 input.sk-toggleable__control:checked~label.sk-toggleable__label-arrow:before {content: \"▾\";}#sk-container-id-1 div.sk-estimator input.sk-toggleable__control:checked~label.sk-toggleable__label {background-color: #d4ebff;}#sk-container-id-1 div.sk-label input.sk-toggleable__control:checked~label.sk-toggleable__label {background-color: #d4ebff;}#sk-container-id-1 input.sk-hidden--visually {border: 0;clip: rect(1px 1px 1px 1px);clip: rect(1px, 1px, 1px, 1px);height: 1px;margin: -1px;overflow: hidden;padding: 0;position: absolute;width: 1px;}#sk-container-id-1 div.sk-estimator {font-family: monospace;background-color: #f0f8ff;border: 1px dotted black;border-radius: 0.25em;box-sizing: border-box;margin-bottom: 0.5em;}#sk-container-id-1 div.sk-estimator:hover {background-color: #d4ebff;}#sk-container-id-1 div.sk-parallel-item::after {content: \"\";width: 100%;border-bottom: 1px solid gray;flex-grow: 1;}#sk-container-id-1 div.sk-label:hover label.sk-toggleable__label {background-color: #d4ebff;}#sk-container-id-1 div.sk-serial::before {content: \"\";position: absolute;border-left: 1px solid gray;box-sizing: border-box;top: 0;bottom: 0;left: 50%;z-index: 0;}#sk-container-id-1 div.sk-serial {display: flex;flex-direction: column;align-items: center;background-color: white;padding-right: 0.2em;padding-left: 0.2em;position: relative;}#sk-container-id-1 div.sk-item {position: relative;z-index: 1;}#sk-container-id-1 div.sk-parallel {display: flex;align-items: stretch;justify-content: center;background-color: white;position: relative;}#sk-container-id-1 div.sk-item::before, #sk-container-id-1 div.sk-parallel-item::before {content: \"\";position: absolute;border-left: 1px solid gray;box-sizing: border-box;top: 0;bottom: 0;left: 50%;z-index: -1;}#sk-container-id-1 div.sk-parallel-item {display: flex;flex-direction: column;z-index: 1;position: relative;background-color: white;}#sk-container-id-1 div.sk-parallel-item:first-child::after {align-self: flex-end;width: 50%;}#sk-container-id-1 div.sk-parallel-item:last-child::after {align-self: flex-start;width: 50%;}#sk-container-id-1 div.sk-parallel-item:only-child::after {width: 0;}#sk-container-id-1 div.sk-dashed-wrapped {border: 1px dashed gray;margin: 0 0.4em 0.5em 0.4em;box-sizing: border-box;padding-bottom: 0.4em;background-color: white;}#sk-container-id-1 div.sk-label label {font-family: monospace;font-weight: bold;display: inline-block;line-height: 1.2em;}#sk-container-id-1 div.sk-label-container {text-align: center;}#sk-container-id-1 div.sk-container {/* jupyter's `normalize.less` sets `[hidden] { display: none; }` but bootstrap.min.css set `[hidden] { display: none !important; }` so we also need the `!important` here to be able to override the default hidden behavior on the sphinx rendered scikit-learn.org. See: https://github.com/scikit-learn/scikit-learn/issues/21755 */display: inline-block !important;position: relative;}#sk-container-id-1 div.sk-text-repr-fallback {display: none;}</style><div id=\"sk-container-id-1\" class=\"sk-top-container\"><div class=\"sk-text-repr-fallback\"><pre>RandomForestClassifier(max_depth=70, max_features=&#x27;log2&#x27;, min_samples_split=5,\n",
       "                       n_estimators=800)</pre><b>In a Jupyter environment, please rerun this cell to show the HTML representation or trust the notebook. <br />On GitHub, the HTML representation is unable to render, please try loading this page with nbviewer.org.</b></div><div class=\"sk-container\" hidden><div class=\"sk-item\"><div class=\"sk-estimator sk-toggleable\"><input class=\"sk-toggleable__control sk-hidden--visually\" id=\"sk-estimator-id-1\" type=\"checkbox\" checked><label for=\"sk-estimator-id-1\" class=\"sk-toggleable__label sk-toggleable__label-arrow\">RandomForestClassifier</label><div class=\"sk-toggleable__content\"><pre>RandomForestClassifier(max_depth=70, max_features=&#x27;log2&#x27;, min_samples_split=5,\n",
       "                       n_estimators=800)</pre></div></div></div></div></div>"
      ],
      "text/plain": [
       "RandomForestClassifier(max_depth=70, max_features='log2', min_samples_split=5,\n",
       "                       n_estimators=800)"
      ]
     },
     "execution_count": 31,
     "metadata": {},
     "output_type": "execute_result"
    }
   ],
   "source": [
    "rf.fit(X_train,y_train)"
   ]
  },
  {
   "cell_type": "code",
   "execution_count": 32,
   "id": "67828d2f",
   "metadata": {},
   "outputs": [
    {
     "name": "stdout",
     "output_type": "stream",
     "text": [
      "Test Accuracy: 0.8398305084745763\n"
     ]
    }
   ],
   "source": [
    "# Evaluate model on test set\n",
    "y_pred = rf.predict(X_test)\n",
    "accuracy = metrics.accuracy_score(y_test, y_pred)\n",
    "print(\"Test Accuracy:\", accuracy)\n"
   ]
  },
  {
   "cell_type": "code",
   "execution_count": 33,
   "id": "e3bc247e",
   "metadata": {},
   "outputs": [
    {
     "name": "stdout",
     "output_type": "stream",
     "text": [
      "Classification Report:\n",
      "              precision    recall  f1-score   support\n",
      "\n",
      "           0       0.25      0.01      0.01       187\n",
      "           1       0.84      1.00      0.91       993\n",
      "\n",
      "    accuracy                           0.84      1180\n",
      "   macro avg       0.55      0.50      0.46      1180\n",
      "weighted avg       0.75      0.84      0.77      1180\n",
      "\n"
     ]
    }
   ],
   "source": [
    "# Print classification report\n",
    "print(\"Classification Report:\")\n",
    "print(metrics.classification_report(y_test, y_pred))"
   ]
  },
  {
   "cell_type": "code",
   "execution_count": 34,
   "id": "06a0670e",
   "metadata": {},
   "outputs": [
    {
     "data": {
      "image/png": "[encoded data removed]",
      "text/plain": [
       "<Figure size 640x480 with 2 Axes>"
      ]
     },
     "metadata": {},
     "output_type": "display_data"
    }
   ],
   "source": [
    "# Confusion matrix\n",
    "cm = metrics.confusion_matrix(y_test, y_pred)\n",
    "sns.heatmap(cm, annot=True, fmt='d', cmap='Blues')\n",
    "plt.title('Confusion Matrix')\n",
    "plt.xlabel('Predicted')\n",
    "plt.ylabel('Actual')\n",
    "plt.show()"
   ]
  },
  {
   "cell_type": "code",
   "execution_count": 35,
   "id": "e9321cba",
   "metadata": {},
   "outputs": [],
   "source": [
    "test_c= test_b.drop(columns=['Loan_ID','Dependents','ID','Gender','Married'] ,axis=1)"
   ]
  },
  {
   "cell_type": "code",
   "execution_count": 36,
   "id": "ddfe2c27",
   "metadata": {},
   "outputs": [],
   "source": [
    "predictions =rf.predict(test_c)"
   ]
  },
  {
   "cell_type": "code",
   "execution_count": 37,
   "id": "7abdc12a",
   "metadata": {},
   "outputs": [],
   "source": [
    "sub_b['Loan_Status']= predictions"
   ]
  },
  {
   "cell_type": "code",
   "execution_count": 38,
   "id": "96f64e3a",
   "metadata": {},
   "outputs": [],
   "source": [
    "sub_b.to_csv(\"RANDOM FOREST baseline model.csv\", index=False)"
   ]
  },
  {
   "cell_type": "code",
   "execution_count": 39,
   "id": "610c5b3d",
   "metadata": {},
   "outputs": [
    {
     "data": {
      "text/html": [
       "<div>\n",
       "<style scoped>\n",
       "    .dataframe tbody tr th:only-of-type {\n",
       "        vertical-align: middle;\n",
       "    }\n",
       "\n",
       "    .dataframe tbody tr th {\n",
       "        vertical-align: top;\n",
       "    }\n",
       "\n",
       "    .dataframe thead th {\n",
       "        text-align: right;\n",
       "    }\n",
       "</style>\n",
       "<table border=\"1\" class=\"dataframe\">\n",
       "  <thead>\n",
       "    <tr style=\"text-align: right;\">\n",
       "      <th></th>\n",
       "      <th>ID</th>\n",
       "      <th>Loan_Status</th>\n",
       "    </tr>\n",
       "  </thead>\n",
       "  <tbody>\n",
       "    <tr>\n",
       "      <th>0</th>\n",
       "      <td>70607</td>\n",
       "      <td>1</td>\n",
       "    </tr>\n",
       "    <tr>\n",
       "      <th>1</th>\n",
       "      <td>58412</td>\n",
       "      <td>1</td>\n",
       "    </tr>\n",
       "    <tr>\n",
       "      <th>2</th>\n",
       "      <td>88755</td>\n",
       "      <td>1</td>\n",
       "    </tr>\n",
       "    <tr>\n",
       "      <th>3</th>\n",
       "      <td>97271</td>\n",
       "      <td>1</td>\n",
       "    </tr>\n",
       "    <tr>\n",
       "      <th>4</th>\n",
       "      <td>70478</td>\n",
       "      <td>1</td>\n",
       "    </tr>\n",
       "  </tbody>\n",
       "</table>\n",
       "</div>"
      ],
      "text/plain": [
       "      ID  Loan_Status\n",
       "0  70607            1\n",
       "1  58412            1\n",
       "2  88755            1\n",
       "3  97271            1\n",
       "4  70478            1"
      ]
     },
     "execution_count": 39,
     "metadata": {},
     "output_type": "execute_result"
    }
   ],
   "source": [
    "sub_b.head()"
   ]
  },
  {
   "cell_type": "code",
   "execution_count": null,
   "id": "3a65e061",
   "metadata": {},
   "outputs": [],
   "source": []
  }
 ],
 "metadata": {
  "kernelspec": {
   "display_name": "Python 3 (ipykernel)",
   "language": "python",
   "name": "python3"
  },
  "language_info": {
   "codemirror_mode": {
    "name": "ipython",
    "version": 3
   },
   "file_extension": ".py",
   "mimetype": "text/x-python",
   "name": "python",
   "nbconvert_exporter": "python",
   "pygments_lexer": "ipython3",
   "version": "3.11.5"
  }
 },
 "nbformat": 4,
 "nbformat_minor": 5
}
